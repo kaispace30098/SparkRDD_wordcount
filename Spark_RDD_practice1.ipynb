{
  "nbformat": 4,
  "nbformat_minor": 0,
  "metadata": {
    "colab": {
      "name": "Spark RDD practice1.ipynb",
      "provenance": [],
      "authorship_tag": "ABX9TyN1rURSgZjpsNaBmBWasDd6",
      "include_colab_link": true
    },
    "kernelspec": {
      "name": "python3",
      "display_name": "Python 3"
    },
    "language_info": {
      "name": "python"
    }
  },
  "cells": [
    {
      "cell_type": "markdown",
      "metadata": {
        "id": "view-in-github",
        "colab_type": "text"
      },
      "source": [
        "<a href=\"https://colab.research.google.com/github/kaispace30098/SparkRDD_wordcount/blob/main/Spark_RDD_practice1.ipynb\" target=\"_parent\"><img src=\"https://colab.research.google.com/assets/colab-badge.svg\" alt=\"Open In Colab\"/></a>"
      ]
    },
    {
      "cell_type": "code",
      "execution_count": 1,
      "metadata": {
        "colab": {
          "base_uri": "https://localhost:8080/"
        },
        "id": "0eaTvZTQvnXR",
        "outputId": "0cfdb586-b031-4aad-bff2-081d611e0d35"
      },
      "outputs": [
        {
          "output_type": "execute_result",
          "data": {
            "text/plain": [
              "['hello', 'this', 'is', 'tom', 'i', 'am', 'an', 'industrial', 'engineer']"
            ]
          },
          "metadata": {},
          "execution_count": 1
        }
      ],
      "source": [
        "#experiment for text preprocessing\n",
        "text='hello this is tom. I am an industrial engineer!'\n",
        "import re\n",
        "texts=re.compile(r'\\W+',re.UNICODE).split(text.lower())\n",
        "texts[:-1]"
      ]
    },
    {
      "cell_type": "code",
      "source": [
        "#Text preprocessing function\n",
        "def cleantext(line):\n",
        "  return re.compile(r'\\W+',re.UNICODE).split(line.lower())[:-1] \n"
      ],
      "metadata": {
        "id": "e8e1vem0v6In"
      },
      "execution_count": 2,
      "outputs": []
    },
    {
      "cell_type": "code",
      "source": [
        "!pip install pyspark\n",
        "from pyspark import SparkConf, SparkContext"
      ],
      "metadata": {
        "colab": {
          "base_uri": "https://localhost:8080/"
        },
        "id": "KZX4ucBtv8lS",
        "outputId": "cb99b38c-b5f4-4627-81c0-eab38e9ab28b"
      },
      "execution_count": 3,
      "outputs": [
        {
          "output_type": "stream",
          "name": "stdout",
          "text": [
            "Looking in indexes: https://pypi.org/simple, https://us-python.pkg.dev/colab-wheels/public/simple/\n",
            "Requirement already satisfied: pyspark in /usr/local/lib/python3.7/dist-packages (3.3.0)\n",
            "Requirement already satisfied: py4j==0.10.9.5 in /usr/local/lib/python3.7/dist-packages (from pyspark) (0.10.9.5)\n"
          ]
        }
      ]
    },
    {
      "cell_type": "code",
      "source": [
        "conf=SparkConf().setMaster('local').setAppName('Wordcount')\n",
        "sc=SparkContext(conf=conf)"
      ],
      "metadata": {
        "id": "MRH4MlLGxUCJ"
      },
      "execution_count": 4,
      "outputs": []
    },
    {
      "cell_type": "code",
      "source": [
        "lines =sc.textFile('/content/Book')#line RDD"
      ],
      "metadata": {
        "id": "UI4W812mxjof"
      },
      "execution_count": 5,
      "outputs": []
    },
    {
      "cell_type": "code",
      "source": [
        "#now we got bunch of lines, length: N\n",
        "#we first gather them into one line, length:1 and split them by words\n",
        "words=lines.flatMap(cleantext)"
      ],
      "metadata": {
        "id": "tkMyf963zJ8j"
      },
      "execution_count": 6,
      "outputs": []
    },
    {
      "cell_type": "code",
      "source": [
        "#now turn each words into key-value RDD and cumulate the values by key\n",
        "wordcount=words.map(lambda x:(x,1)).reduceByKey(lambda x,y:x+y)"
      ],
      "metadata": {
        "id": "z6tMUSGM0GrM"
      },
      "execution_count": 7,
      "outputs": []
    },
    {
      "cell_type": "code",
      "source": [
        "#Assume we don't want 'you' in the wordcount\n",
        "\n",
        "filtered=wordcount.filter(lambda x: 'you' not in x[0])"
      ],
      "metadata": {
        "id": "uRmhxhqx3xAO"
      },
      "execution_count": 28,
      "outputs": []
    },
    {
      "cell_type": "code",
      "source": [
        "#because now the key is word, value is count\n",
        "# to sort by number of count we need to turn keys into values, values into keys\n",
        "countword=filtered.map(lambda x:(x[1],x[0]))"
      ],
      "metadata": {
        "id": "o853gFnV1n1U"
      },
      "execution_count": 29,
      "outputs": []
    },
    {
      "cell_type": "code",
      "source": [
        "#Finally we can sort\n",
        "sortcountwords=countword.sortByKey(False)"
      ],
      "metadata": {
        "id": "IH4ckUdHxqWe"
      },
      "execution_count": 30,
      "outputs": []
    },
    {
      "cell_type": "code",
      "source": [
        "#After all these TRANSFORMATION, Now let's apply ACTION\n",
        "results=sortcountwords.collect()"
      ],
      "metadata": {
        "id": "2F3cs7i43ZQy"
      },
      "execution_count": 34,
      "outputs": []
    },
    {
      "cell_type": "code",
      "source": [
        "type(results)"
      ],
      "metadata": {
        "colab": {
          "base_uri": "https://localhost:8080/"
        },
        "id": "xk1VRMck39m_",
        "outputId": "83c89bca-b331-4abb-c580-91f1de991d8a"
      },
      "execution_count": 32,
      "outputs": [
        {
          "output_type": "execute_result",
          "data": {
            "text/plain": [
              "list"
            ]
          },
          "metadata": {},
          "execution_count": 32
        }
      ]
    },
    {
      "cell_type": "code",
      "source": [
        "#Top words:\n",
        "print('except \"you\" included, list the top ten words in the book')\n",
        "for result in results[:10]:\n",
        "   print(result[1],\":\",result[0])"
      ],
      "metadata": {
        "colab": {
          "base_uri": "https://localhost:8080/"
        },
        "id": "TKTXFGshxwH9",
        "outputId": "bdb4ad57-f9d4-415a-a75b-9cac5ee071b3"
      },
      "execution_count": 35,
      "outputs": [
        {
          "output_type": "stream",
          "name": "stdout",
          "text": [
            "except \"you\" included, list the top ten words in the book\n",
            "to : 1828\n",
            "the : 1292\n",
            "a : 1191\n",
            "of : 970\n",
            "and : 934\n",
            "that : 747\n",
            "it : 646\n",
            "in : 616\n",
            "is : 560\n",
            "for : 537\n"
          ]
        }
      ]
    }
  ]
}